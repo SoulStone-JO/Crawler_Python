{
 "cells": [
  {
   "cell_type": "code",
   "execution_count": 15,
   "metadata": {},
   "outputs": [],
   "source": [
    "import urllib.request"
   ]
  },
  {
   "cell_type": "code",
   "execution_count": 16,
   "metadata": {},
   "outputs": [],
   "source": [
    "proxy_list = [\n",
    "    {\"http\":\"125.46.0.62:53281\"},\n",
    "    {\"http\":\"1.192.240.92:9999\"},\n",
    "    {\"http\":\"125.46.0.62:53281\"},\n",
    "    {\"http\":\"115.171.202.213:9000\"},\n",
    "    {\"http\":\"111.11.98.58:9000\"}\n",
    "]"
   ]
  },
  {
   "cell_type": "code",
   "execution_count": 17,
   "metadata": {},
   "outputs": [
    {
     "name": "stdout",
     "output_type": "stream",
     "text": [
      "{'http': '125.46.0.62:53281'}\n",
      "{'http': '1.192.240.92:9999'}\n",
      "{'http': '125.46.0.62:53281'}\n",
      "{'http': '115.171.202.213:9000'}\n",
      "{'http': '111.11.98.58:9000'}\n"
     ]
    }
   ],
   "source": [
    "for proxy in proxy_list:\n",
    "    print(proxy)\n",
    "    # 利用遍历出来的IP创建服务器\n",
    "    proxy_handler = urllib.request.ProxyHandler(proxy)\n",
    "    # 创建opener\n",
    "    opener = urllib.request.build_opener(proxy_handler)\n",
    "    \n",
    "    try:\n",
    "        opener.open(\"https://www.baidu.com\",timeout=1)\n",
    "    except Exception as e:\n",
    "        print(e)"
   ]
  },
  {
   "cell_type": "code",
   "execution_count": null,
   "metadata": {},
   "outputs": [],
   "source": []
  }
 ],
 "metadata": {
  "kernelspec": {
   "display_name": "Python 3",
   "language": "python",
   "name": "python3"
  },
  "language_info": {
   "codemirror_mode": {
    "name": "ipython",
    "version": 3
   },
   "file_extension": ".py",
   "mimetype": "text/x-python",
   "name": "python",
   "nbconvert_exporter": "python",
   "pygments_lexer": "ipython3",
   "version": "3.6.5"
  }
 },
 "nbformat": 4,
 "nbformat_minor": 2
}
