{
 "cells": [
  {
   "cell_type": "code",
   "execution_count": 38,
   "metadata": {},
   "outputs": [],
   "source": [
    "import urllib.request\n",
    "import urllib.parse\n",
    "import string"
   ]
  },
  {
   "cell_type": "code",
   "execution_count": 39,
   "metadata": {},
   "outputs": [],
   "source": [
    "def get_params():\n",
    "    url = \"https://www.baidu.com/s?\"\n",
    "    \n",
    "    params = {\n",
    "        \"wd\":\"中文\",\n",
    "        \"key\":\"zhang\",\n",
    "        \"value\":\"san\"\n",
    "    }\n",
    "    str_params = urllib.parse.urlencode(params) # 将字典转换为\"key=value\",并将中文转码\n",
    "    print(str_params)\n",
    "    final_url = url + str_params\n",
    "    print(final_url)\n",
    "    \n",
    "    #将带有中文的url转译成计算机可识别的url\n",
    "    end_url = urllib.parse.quote(final_url,safe=string.printable)\n",
    "    \n",
    "    response = urllib.request.urlopen(end_url)\n",
    "    data = response.read().decode(\"utf-8\")\n",
    "    print(data)"
   ]
  },
  {
   "cell_type": "code",
   "execution_count": 40,
   "metadata": {},
   "outputs": [
    {
     "name": "stdout",
     "output_type": "stream",
     "text": [
      "wd=%E4%B8%AD%E6%96%87&key=zhang&value=san\n",
      "https://www.baidu.com/s?wd=%E4%B8%AD%E6%96%87&key=zhang&value=san\n",
      "<html>\r\n",
      "<head>\r\n",
      "\t<script>\r\n",
      "\t\tlocation.replace(location.href.replace(\"https://\",\"http://\"));\r\n",
      "\t</script>\r\n",
      "</head>\r\n",
      "<body>\r\n",
      "\t<noscript><meta http-equiv=\"refresh\" content=\"0;url=http://www.baidu.com/\"></noscript>\r\n",
      "</body>\r\n",
      "</html>\n"
     ]
    }
   ],
   "source": [
    "get_params()"
   ]
  }
 ],
 "metadata": {
  "kernelspec": {
   "display_name": "Python 3",
   "language": "python",
   "name": "python3"
  },
  "language_info": {
   "codemirror_mode": {
    "name": "ipython",
    "version": 3
   },
   "file_extension": ".py",
   "mimetype": "text/x-python",
   "name": "python",
   "nbconvert_exporter": "python",
   "pygments_lexer": "ipython3",
   "version": "3.6.5"
  }
 },
 "nbformat": 4,
 "nbformat_minor": 2
}
