{
 "cells": [
  {
   "cell_type": "code",
   "execution_count": 25,
   "metadata": {},
   "outputs": [],
   "source": [
    "import urllib.request\n"
   ]
  },
  {
   "cell_type": "code",
   "execution_count": 26,
   "metadata": {},
   "outputs": [],
   "source": [
    "def load_baidu():\n",
    "    url = \"https://www.baidu.com\"\n",
    "    header = {\n",
    "        # 浏览器的版本\n",
    "        \"User-Agent\":\"Mozilla/5.0 (Windows NT 10.0; Win64; x64) AppleWebKit/537.36 (KHTML, like Gecko) Chrome/71.0.3578.98 Safari/537.36\"\n",
    "    }\n",
    "    \n",
    "    # 创建请求对象\n",
    "    request = urllib.request.Request(url,headers=header)\n",
    "    \n",
    "    # 动态地添加head信息\n",
    "    request.add_header(\"User-Agent\",\"Mozilla/5.0 (Windows NT 10.0; Win64; x64) AppleWebKit/537.36 (KHTML, like Gecko) Chrome/71.0.3578.98 Safari/537.36\")    \n",
    "    \n",
    "    # 请求网络数据(不在此处增加请求头信息)\n",
    "    response = urllib.request.urlopen(request)\n",
    "    print(response)\n",
    "    data = response.read().decode(\"utf-8\")\n",
    "    \n",
    "    # 获取完整url\n",
    "    final_url = request.get_full_url()\n",
    "    print(final_url)\n",
    "    with open(\"04_request_headers.html\",\"w\",encoding=\"utf-8\") as f:\n",
    "        f.write(data)\n",
    "    # 响应头\n",
    "    # print(response.headers)\n",
    "    # 获取请求头的信息\n",
    "#     request_headers = request.headers\n",
    "#     print(request_headers)\n",
    "    # 第二种方式获取请求头信息\n",
    "#     print(request.get_header(\"User-agent\"))"
   ]
  },
  {
   "cell_type": "code",
   "execution_count": 27,
   "metadata": {},
   "outputs": [
    {
     "name": "stdout",
     "output_type": "stream",
     "text": [
      "<http.client.HTTPResponse object at 0x00000224DF9FDEF0>\n",
      "https://www.baidu.com\n"
     ]
    }
   ],
   "source": [
    "load_baidu()"
   ]
  },
  {
   "cell_type": "code",
   "execution_count": null,
   "metadata": {},
   "outputs": [],
   "source": []
  }
 ],
 "metadata": {
  "kernelspec": {
   "display_name": "Python 3",
   "language": "python",
   "name": "python3"
  },
  "language_info": {
   "codemirror_mode": {
    "name": "ipython",
    "version": 3
   },
   "file_extension": ".py",
   "mimetype": "text/x-python",
   "name": "python",
   "nbconvert_exporter": "python",
   "pygments_lexer": "ipython3",
   "version": "3.6.5"
  }
 },
 "nbformat": 4,
 "nbformat_minor": 2
}
